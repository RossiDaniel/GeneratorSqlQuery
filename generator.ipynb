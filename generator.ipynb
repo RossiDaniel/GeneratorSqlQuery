{
 "cells": [
  {
   "cell_type": "code",
   "execution_count": 74,
   "metadata": {},
   "outputs": [],
   "source": [
    "import pandas as pd\n",
    "import random\n",
    "import string\n",
    "from datetime import datetime"
   ]
  },
  {
   "cell_type": "code",
   "execution_count": 75,
   "metadata": {},
   "outputs": [],
   "source": [
    "def id_generator(size=6, chars=string.ascii_uppercase + string.digits):\n",
    "    return ''.join(random.choice(chars) for _ in range(size))"
   ]
  },
  {
   "cell_type": "code",
   "execution_count": 76,
   "metadata": {},
   "outputs": [],
   "source": [
    "def random_date(start=2000,end=2017):\n",
    "    year = random.randint(start, end)\n",
    "    month = random.randint(1, 12)\n",
    "    day = random.randint(1, 28)\n",
    "    return datetime(year, month, day)"
   ]
  },
  {
   "cell_type": "code",
   "execution_count": 77,
   "metadata": {},
   "outputs": [],
   "source": [
    "def upsert(table, name,values):\n",
    "    keys = ['%s' % k for k in name]\n",
    "    values = [\"'%s'\" % v for v in values]\n",
    "    sql = list()\n",
    "    sql.append(\"INSERT INTO %s (\" % table)\n",
    "    sql.append(\", \".join(keys))\n",
    "    sql.append(\") VALUES (\")\n",
    "    sql.append(\", \".join(values))\n",
    "    sql.append(\");\")\n",
    "    return \"\".join(sql)"
   ]
  },
  {
   "cell_type": "code",
   "execution_count": 78,
   "metadata": {},
   "outputs": [],
   "source": [
    "values = []\n",
    "for i in range(1000):\n",
    "\n",
    "    values.append([\n",
    "    random.randint(1,10),\n",
    "    id_generator(6),\n",
    "    id_generator(6),\n",
    "    random.randint(1,10),\n",
    "    random_date().strftime('%Y-%m-%d'),\n",
    "    random.randint(1,10),\n",
    "    random.randint(1,10),\n",
    "    random.randint(1,10),\n",
    "    random.randint(1,10),\n",
    "    id_generator(6),\n",
    "    id_generator(6),\n",
    "    random.randint(1,10),\n",
    "    random.randint(1,10),\n",
    "    random.randint(1,10),\n",
    "    id_generator(6),\n",
    "    random.randint(1,10),\n",
    "    id_generator(6),\n",
    "    random.randint(1,10),\n",
    "    random.randint(1,10),\n",
    "    random_date().strftime('%Y-%m-%d'),\n",
    "    random_date().strftime('%Y-%m-%d')])\n",
    "\n",
    "name= ['Category','Make','Model','YearModel','DateMatriculation','NumDoors','Numseats','ExternalColor','InternalColor','InternalMaterials','FuelType','EngineCylinder','HorsePower','EmissionClass','Transmission','Gears','Traction','Mileage','NumOwners','DateLastCheckup','DateNextRevision']\n"
   ]
  },
  {
   "cell_type": "code",
   "execution_count": 79,
   "metadata": {
    "scrolled": false
   },
   "outputs": [],
   "source": [
    "file = open(\"query.txt\",\"w\") \n",
    "for v in values:\n",
    "    q =(upsert(\"Vehicle\",name,v))\n",
    "    file.write(str(q)+'\\n')\n",
    "file.close() "
   ]
  },
  {
   "cell_type": "code",
   "execution_count": 5,
   "metadata": {},
   "outputs": [],
   "source": [
    "class generator:\n",
    "    pass"
   ]
  },
  {
   "cell_type": "code",
   "execution_count": null,
   "metadata": {},
   "outputs": [],
   "source": []
  },
  {
   "cell_type": "code",
   "execution_count": null,
   "metadata": {},
   "outputs": [],
   "source": []
  },
  {
   "cell_type": "code",
   "execution_count": 4,
   "metadata": {},
   "outputs": [],
   "source": [
    "class attr:\n",
    "    def __init__(self,value):\n",
    "        self.type = value"
   ]
  },
  {
   "cell_type": "code",
   "execution_count": 1,
   "metadata": {},
   "outputs": [],
   "source": [
    "class table:\n",
    "    def __init__(self,attributes):\n",
    "        self.attr = attributes\n",
    "    def "
   ]
  },
  {
   "cell_type": "code",
   "execution_count": null,
   "metadata": {},
   "outputs": [],
   "source": []
  }
 ],
 "metadata": {
  "kernelspec": {
   "display_name": "Python 2",
   "language": "python",
   "name": "python2"
  },
  "language_info": {
   "codemirror_mode": {
    "name": "ipython",
    "version": 2
   },
   "file_extension": ".py",
   "mimetype": "text/x-python",
   "name": "python",
   "nbconvert_exporter": "python",
   "pygments_lexer": "ipython2",
   "version": "2.7.12"
  }
 },
 "nbformat": 4,
 "nbformat_minor": 2
}
