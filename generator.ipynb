{
 "cells": [
  {
   "cell_type": "code",
   "execution_count": 74,
   "metadata": {},
   "outputs": [],
   "source": [
    "import pandas as pd\n",
    "import random\n",
    "import string\n",
    "from datetime import datetime"
   ]
  },
  {
   "cell_type": "code",
   "execution_count": 75,
   "metadata": {},
   "outputs": [],
   "source": [
    "def id_generator(size=6, chars=string.ascii_uppercase + string.digits):\n",
    "    return ''.join(random.choice(chars) for _ in range(size))"
   ]
  },
  {
   "cell_type": "code",
   "execution_count": 76,
   "metadata": {},
   "outputs": [],
   "source": [
    "def random_date(start=2000,end=2017):\n",
    "    year = random.randint(start, end)\n",
    "    month = random.randint(1, 12)\n",
    "    day = random.randint(1, 28)\n",
    "    return datetime(year, month, day)"
   ]
  },
  {
   "cell_type": "code",
   "execution_count": 77,
   "metadata": {},
   "outputs": [],
   "source": [
    "def upsert(table, name,values):\n",
    "    keys = ['%s' % k for k in name]\n",
    "    values = [\"'%s'\" % v for v in values]\n",
    "    sql = list()\n",
    "    sql.append(\"INSERT INTO %s (\" % table)\n",
    "    sql.append(\", \".join(keys))\n",
    "    sql.append(\") VALUES (\")\n",
    "    sql.append(\", \".join(values))\n",
    "    sql.append(\");\")\n",
    "    return \"\".join(sql)"
   ]
  },
  {
   "cell_type": "code",
   "execution_count": 78,
   "metadata": {},
   "outputs": [],
   "source": [
    "values = []\n",
    "for i in range(1000):\n",
    "\n",
    "    values.append([\n",
    "    random.randint(1,10),\n",
    "    id_generator(6),\n",
    "    id_generator(6),\n",
    "    random.randint(1,10),\n",
    "    random_date().strftime('%Y-%m-%d'),\n",
    "    random.randint(1,10),\n",
    "    random.randint(1,10),\n",
    "    random.randint(1,10),\n",
    "    random.randint(1,10),\n",
    "    id_generator(6),\n",
    "    id_generator(6),\n",
    "    random.randint(1,10),\n",
    "    random.randint(1,10),\n",
    "    random.randint(1,10),\n",
    "    id_generator(6),\n",
    "    random.randint(1,10),\n",
    "    id_generator(6),\n",
    "    random.randint(1,10),\n",
    "    random.randint(1,10),\n",
    "    random_date().strftime('%Y-%m-%d'),\n",
    "    random_date().strftime('%Y-%m-%d')])\n",
    "\n",
    "name= ['Category','Make','Model','YearModel','DateMatriculation','NumDoors','Numseats','ExternalColor','InternalColor','InternalMaterials','FuelType','EngineCylinder','HorsePower','EmissionClass','Transmission','Gears','Traction','Mileage','NumOwners','DateLastCheckup','DateNextRevision']\n"
   ]
  },
  {
   "cell_type": "code",
   "execution_count": 79,
   "metadata": {
    "scrolled": false
   },
   "outputs": [],
   "source": [
    "file = open(\"query.txt\",\"w\") \n",
    "for v in values:\n",
    "    q =(upsert(\"Vehicle\",name,v))\n",
    "    file.write(str(q)+'\\n')\n",
    "file.close() "
   ]
  },
  {
   "cell_type": "code",
   "execution_count": 58,
   "metadata": {},
   "outputs": [],
   "source": [
    "from interface import implements, Interface\n",
    "\n",
    "class Generator(Interface):\n",
    "\n",
    "    def generate(self):\n",
    "        pass\n",
    "\n",
    "    def clone(self):\n",
    "        pass"
   ]
  },
  {
   "cell_type": "code",
   "execution_count": 59,
   "metadata": {},
   "outputs": [],
   "source": [
    "class IntGenerator(implements(Generator)):\n",
    "    def __init__(self):\n",
    "        print 'int'\n",
    "    def generate(self):\n",
    "        print 'bubu'\n",
    "    def clone(self):\n",
    "        return IntGenerator()"
   ]
  },
  {
   "cell_type": "code",
   "execution_count": 60,
   "metadata": {},
   "outputs": [],
   "source": [
    "class DataGenerator(implements(Generator)):\n",
    "    def __init__(self):\n",
    "        print 'date'\n",
    "    def generate(self):\n",
    "        print 'bubu'\n",
    "    def clone(self):\n",
    "        return IntGenerator()"
   ]
  },
  {
   "cell_type": "code",
   "execution_count": 61,
   "metadata": {},
   "outputs": [],
   "source": [
    "class StringGenerator(implements(Generator)):\n",
    "    def __init__(self):\n",
    "        print 'string'\n",
    "    def generate(self):\n",
    "        print 'bubu'\n",
    "    def clone(self):\n",
    "        return IntGenerator()"
   ]
  },
  {
   "cell_type": "code",
   "execution_count": 62,
   "metadata": {},
   "outputs": [],
   "source": [
    "class Attr:\n",
    "    def __init__(self,nm,gn):\n",
    "        self.name=nm\n",
    "        self.generator=gn"
   ]
  },
  {
   "cell_type": "code",
   "execution_count": 70,
   "metadata": {
    "scrolled": true
   },
   "outputs": [
    {
     "name": "stdout",
     "output_type": "stream",
     "text": [
      "int\n",
      "int\n",
      "int\n"
     ]
    }
   ],
   "source": [
    "class Table:\n",
    "    class Type(Enum):\n",
    "        VARCHAR = IntGenerator()\n",
    "        INT = IntGenerator()\n",
    "        DATE = IntGenerator()\n",
    "\n",
    "    def __init__(self,nm):\n",
    "        self.name = nm\n",
    "        self.attr = []\n",
    "    def addAttribute(self,nm,gn):\n",
    "        for at in self.attr:\n",
    "            if at.name == nm: raise ValueError('Non puoi inserire attributi con lo stesso nome')\n",
    "        gen=gn.value.clone()\n",
    "        self.attr.append(Attr(nm,gen))\n",
    "        return gen"
   ]
  },
  {
   "cell_type": "code",
   "execution_count": 76,
   "metadata": {},
   "outputs": [],
   "source": [
    "t = Table('vehicle')"
   ]
  },
  {
   "cell_type": "code",
   "execution_count": 77,
   "metadata": {},
   "outputs": [
    {
     "name": "stdout",
     "output_type": "stream",
     "text": [
      "int\n"
     ]
    },
    {
     "data": {
      "text/plain": [
       "<__main__.IntGenerator at 0x7f19c00febd0>"
      ]
     },
     "execution_count": 77,
     "metadata": {},
     "output_type": "execute_result"
    }
   ],
   "source": [
    "t.addAttribute('name', t.Type.VARCHAR)"
   ]
  },
  {
   "cell_type": "code",
   "execution_count": 69,
   "metadata": {},
   "outputs": [
    {
     "name": "stdout",
     "output_type": "stream",
     "text": [
      "int\n",
      "<__main__.IntGenerator object at 0x7f19c00febd0>\n"
     ]
    }
   ],
   "source": [
    "print t.Type.INT.value.clone()"
   ]
  },
  {
   "cell_type": "code",
   "execution_count": null,
   "metadata": {},
   "outputs": [],
   "source": []
  }
 ],
 "metadata": {
  "kernelspec": {
   "display_name": "Python 2",
   "language": "python",
   "name": "python2"
  },
  "language_info": {
   "codemirror_mode": {
    "name": "ipython",
    "version": 2
   },
   "file_extension": ".py",
   "mimetype": "text/x-python",
   "name": "python",
   "nbconvert_exporter": "python",
   "pygments_lexer": "ipython2",
   "version": "2.7.12"
  }
 },
 "nbformat": 4,
 "nbformat_minor": 2
}
